{
 "cells": [
  {
   "cell_type": "code",
   "execution_count": 1,
   "metadata": {
    "collapsed": true
   },
   "outputs": [],
   "source": [
    "# Analytics Expression Language Example\n",
    "\n",
    "import xarray as xr\n",
    "from datacube.api import API\n",
    "from datacube.ndexpr import NDexpr"
   ]
  },
  {
   "cell_type": "code",
   "execution_count": 2,
   "metadata": {
    "collapsed": true
   },
   "outputs": [],
   "source": [
    "# Instantiating API and NDexpr\n",
    "g = API()\n",
    "nd = NDexpr()"
   ]
  },
  {
   "cell_type": "code",
   "execution_count": 3,
   "metadata": {
    "collapsed": true
   },
   "outputs": [],
   "source": [
    "# construct data request parameters for band_30 and band_40\n",
    "data_request_descriptor = {\n",
    "    'platform': 'LANDSAT 5',\n",
    "    'product': 'NBAR',\n",
    "    'variables': ('band_30', 'band_40'),\n",
    "    'dimensions': {\n",
    "        'longitude': {\n",
    "            'range': (150, 150.256)\n",
    "        },\n",
    "        'latitude': {\n",
    "            'range': (-34.0, -33.744)\n",
    "        }\n",
    "    }\n",
    "}\n",
    "\n",
    "# Retrieving data from API\n",
    "d1 = g.get_data(data_request_descriptor)\n",
    "\n",
    "# construct data request parameters for PQ\n",
    "pq_request_descriptor = {\n",
    "    'platform': 'LANDSAT 5',\n",
    "    'product': 'PQ',\n",
    "    'variables': ('band_pixelquality'),\n",
    "    'dimensions': {\n",
    "        'longitude': {\n",
    "            'range': (150, 150.256)\n",
    "        },\n",
    "        'latitude': {\n",
    "            'range': (-34.0, -33.744)\n",
    "        }\n",
    "    }\n",
    "}\n",
    "\n",
    "# Retrieving data from API\n",
    "d2 = g.get_data(pq_request_descriptor)"
   ]
  },
  {
   "cell_type": "code",
   "execution_count": 4,
   "metadata": {
    "collapsed": true
   },
   "outputs": [],
   "source": [
    "# The following 3 lines shouldn't be done like this\n",
    "# Currently done like this for the sake of the example.\n",
    "b30 = xr.DataArray(d1['arrays']['band_30'])\n",
    "b40 = xr.DataArray(d1['arrays']['band_40'])\n",
    "pq = nd.get_pqa_mask(d2['arrays']['band_pixelquality'].values)"
   ]
  },
  {
   "cell_type": "code",
   "execution_count": 5,
   "metadata": {
    "collapsed": true
   },
   "outputs": [],
   "source": [
    "# NDexpr demo begins here\n",
    "\n",
    "# perform ndvi as expressed in this language.\n",
    "ndvi = nd.evaluate('((b40 - b30) / (b40 + b30))')\n",
    "\n",
    "# perform mask on ndvi as expressed in this language.\n",
    "masked_ndvi = nd.evaluate('ndvi{pq}')\n"
   ]
  },
  {
   "cell_type": "code",
   "execution_count": 6,
   "metadata": {
    "collapsed": false
   },
   "outputs": [
    {
     "name": "stdout",
     "output_type": "stream",
     "text": [
      "<xarray.DataArray (time: 13, latitude: 1024, longitude: 1024)>\n",
      "array([[[-0.        , -0.        , -0.        , ..., -0.        ,\n",
      "         -0.        , -0.        ],\n",
      "        [-0.        , -0.        , -0.        , ..., -0.        ,\n",
      "         -0.        , -0.        ],\n",
      "        [-0.        , -0.        , -0.        , ..., -0.        ,\n",
      "         -0.        , -0.        ],\n",
      "        ..., \n",
      "        [ 0.73297491,  0.69905106,  0.68346774, ...,  0.70918822,\n",
      "          0.73099762,  0.73852004],\n",
      "        [ 0.71465517,  0.7000449 ,  0.67726626, ...,  0.73426573,\n",
      "          0.73890032,  0.75965167],\n",
      "        [ 0.70223979,  0.69293478,  0.7090739 , ...,  0.75767803,\n",
      "          0.74681934,  0.75966184]],\n",
      "\n",
      "       [[-0.        , -0.        , -0.        , ..., -0.        ,\n",
      "         -0.        , -0.        ],\n",
      "        [-0.        , -0.        , -0.        , ..., -0.        ,\n",
      "         -0.        , -0.        ],\n",
      "        [-0.        , -0.        , -0.        , ..., -0.        ,\n",
      "         -0.        , -0.        ],\n",
      "        ..., \n",
      "        [-0.        , -0.        , -0.        , ..., -0.        ,\n",
      "         -0.        , -0.        ],\n",
      "        [-0.        , -0.        , -0.        , ..., -0.        ,\n",
      "         -0.        , -0.        ],\n",
      "        [-0.        , -0.        , -0.        , ..., -0.        ,\n",
      "         -0.        , -0.        ]],\n",
      "\n",
      "       [[-0.        , -0.        , -0.        , ..., -0.        ,\n",
      "         -0.        , -0.        ],\n",
      "        [-0.        , -0.        , -0.        , ..., -0.        ,\n",
      "         -0.        , -0.        ],\n",
      "        [-0.        , -0.        , -0.        , ..., -0.        ,\n",
      "         -0.        , -0.        ],\n",
      "        ..., \n",
      "        [ 0.55002305,  0.52292728,  0.50638298, ...,  0.72148148,\n",
      "          0.69892473,  0.69435544],\n",
      "        [ 0.57077626,  0.55576801,  0.543257  , ...,  0.74184783,\n",
      "          0.6961256 ,  0.71600602],\n",
      "        [ 0.56898657,  0.55012376,  0.5384127 , ...,  0.755     ,\n",
      "          0.73004021,  0.7145883 ]],\n",
      "\n",
      "       ..., \n",
      "       [[-0.        , -0.        , -0.        , ..., -0.        ,\n",
      "         -0.        , -0.        ],\n",
      "        [-0.        , -0.        , -0.        , ..., -0.        ,\n",
      "         -0.        , -0.        ],\n",
      "        [-0.        , -0.        , -0.        , ..., -0.        ,\n",
      "         -0.        , -0.        ],\n",
      "        ..., \n",
      "        [ 0.66143604,  0.64635272,  0.63788027, ...,  0.64341664,\n",
      "          0.60948905,  0.59910079],\n",
      "        [ 0.69063772,  0.65321101,  0.63230404, ...,  0.63629546,\n",
      "          0.62900875,  0.61835397],\n",
      "        [ 0.6884092 ,  0.67370441,  0.65825243, ...,  0.68114754,\n",
      "          0.68454012,  0.64675516]],\n",
      "\n",
      "       [[-0.        , -0.        , -0.        , ..., -0.        ,\n",
      "         -0.        , -0.        ],\n",
      "        [-0.        , -0.        , -0.        , ..., -0.        ,\n",
      "         -0.        , -0.        ],\n",
      "        [-0.        , -0.        , -0.        , ..., -0.        ,\n",
      "         -0.        , -0.        ],\n",
      "        ..., \n",
      "        [ 0.24627679,  0.24408876,  0.24337087, ...,  0.58672827,\n",
      "          0.56624473,  0.56998684],\n",
      "        [ 0.24363374,  0.24094203,  0.23902439, ...,  0.582038  ,\n",
      "          0.58119658,  0.57617609],\n",
      "        [ 0.24312668,  0.24060694,  0.24317483, ...,  0.59390863,\n",
      "          0.5941255 ,  0.58143608]],\n",
      "\n",
      "       [[-0.        , -0.        , -0.        , ..., -0.        ,\n",
      "         -0.        , -0.        ],\n",
      "        [-0.        , -0.        , -0.        , ..., -0.        ,\n",
      "         -0.        , -0.        ],\n",
      "        [-0.        , -0.        , -0.        , ..., -0.        ,\n",
      "         -0.        , -0.        ],\n",
      "        ..., \n",
      "        [ 0.68298159,  0.64160288,  0.60097324, ...,  0.49586251,\n",
      "          0.46710051,  0.42082515],\n",
      "        [ 0.6671117 ,  0.65388213,  0.6515748 , ...,  0.42328618,\n",
      "          0.40592897,  0.40137683],\n",
      "        [ 0.67624945,  0.68003731,  0.70585436, ...,  0.4005102 ,\n",
      "          0.39027528,  0.38652747]]])\n",
      "Coordinates:\n",
      "  * time       (time) datetime64[ns] 1990-03-03T10:11:16 1990-04-04T09:10:42 ...\n",
      "  * latitude   (latitude) float64 -33.74 -33.74 -33.74 -33.74 -33.75 -33.75 ...\n",
      "  * longitude  (longitude) float64 150.0 150.0 150.0 150.0 150.0 150.0 150.0 ...\n"
     ]
    }
   ],
   "source": [
    "print(ndvi)"
   ]
  },
  {
   "cell_type": "code",
   "execution_count": 7,
   "metadata": {
    "collapsed": false
   },
   "outputs": [
    {
     "name": "stdout",
     "output_type": "stream",
     "text": [
      "<xarray.DataArray (time: 13, latitude: 1024, longitude: 1024)>\n",
      "array([[[        nan,         nan,         nan, ...,         nan,\n",
      "                 nan,         nan],\n",
      "        [        nan,         nan,         nan, ...,         nan,\n",
      "                 nan,         nan],\n",
      "        [        nan,         nan,         nan, ...,         nan,\n",
      "                 nan,         nan],\n",
      "        ..., \n",
      "        [ 0.73297491,  0.69905106,  0.68346774, ...,  0.70918822,\n",
      "          0.73099762,  0.73852004],\n",
      "        [ 0.71465517,  0.7000449 ,  0.67726626, ...,  0.73426573,\n",
      "          0.73890032,  0.75965167],\n",
      "        [ 0.70223979,  0.69293478,  0.7090739 , ...,  0.75767803,\n",
      "          0.74681934,  0.75966184]],\n",
      "\n",
      "       [[        nan,         nan,         nan, ...,         nan,\n",
      "                 nan,         nan],\n",
      "        [        nan,         nan,         nan, ...,         nan,\n",
      "                 nan,         nan],\n",
      "        [        nan,         nan,         nan, ...,         nan,\n",
      "                 nan,         nan],\n",
      "        ..., \n",
      "        [        nan,         nan,         nan, ...,         nan,\n",
      "                 nan,         nan],\n",
      "        [        nan,         nan,         nan, ...,         nan,\n",
      "                 nan,         nan],\n",
      "        [        nan,         nan,         nan, ...,         nan,\n",
      "                 nan,         nan]],\n",
      "\n",
      "       [[        nan,         nan,         nan, ...,         nan,\n",
      "                 nan,         nan],\n",
      "        [        nan,         nan,         nan, ...,         nan,\n",
      "                 nan,         nan],\n",
      "        [        nan,         nan,         nan, ...,         nan,\n",
      "                 nan,         nan],\n",
      "        ..., \n",
      "        [ 0.55002305,  0.52292728,  0.50638298, ...,  0.72148148,\n",
      "          0.69892473,  0.69435544],\n",
      "        [ 0.57077626,  0.55576801,  0.543257  , ...,  0.74184783,\n",
      "          0.6961256 ,  0.71600602],\n",
      "        [ 0.56898657,  0.55012376,  0.5384127 , ...,  0.755     ,\n",
      "          0.73004021,  0.7145883 ]],\n",
      "\n",
      "       ..., \n",
      "       [[        nan,         nan,         nan, ...,         nan,\n",
      "                 nan,         nan],\n",
      "        [        nan,         nan,         nan, ...,         nan,\n",
      "                 nan,         nan],\n",
      "        [        nan,         nan,         nan, ...,         nan,\n",
      "                 nan,         nan],\n",
      "        ..., \n",
      "        [ 0.66143604,  0.64635272,  0.63788027, ...,  0.64341664,\n",
      "          0.60948905,  0.59910079],\n",
      "        [ 0.69063772,  0.65321101,  0.63230404, ...,  0.63629546,\n",
      "          0.62900875,  0.61835397],\n",
      "        [ 0.6884092 ,  0.67370441,  0.65825243, ...,  0.68114754,\n",
      "          0.68454012,  0.64675516]],\n",
      "\n",
      "       [[        nan,         nan,         nan, ...,         nan,\n",
      "                 nan,         nan],\n",
      "        [        nan,         nan,         nan, ...,         nan,\n",
      "                 nan,         nan],\n",
      "        [        nan,         nan,         nan, ...,         nan,\n",
      "                 nan,         nan],\n",
      "        ..., \n",
      "        [        nan,         nan,         nan, ...,  0.58672827,\n",
      "          0.56624473,  0.56998684],\n",
      "        [        nan,         nan,         nan, ...,  0.582038  ,\n",
      "          0.58119658,  0.57617609],\n",
      "        [        nan,         nan,         nan, ...,  0.59390863,\n",
      "          0.5941255 ,  0.58143608]],\n",
      "\n",
      "       [[        nan,         nan,         nan, ...,         nan,\n",
      "                 nan,         nan],\n",
      "        [        nan,         nan,         nan, ...,         nan,\n",
      "                 nan,         nan],\n",
      "        [        nan,         nan,         nan, ...,         nan,\n",
      "                 nan,         nan],\n",
      "        ..., \n",
      "        [ 0.68298159,  0.64160288,  0.60097324, ...,         nan,\n",
      "                 nan,         nan],\n",
      "        [ 0.6671117 ,  0.65388213,  0.6515748 , ...,         nan,\n",
      "                 nan,         nan],\n",
      "        [ 0.67624945,  0.68003731,  0.70585436, ...,         nan,\n",
      "                 nan,         nan]]])\n",
      "Coordinates:\n",
      "  * time       (time) datetime64[ns] 1990-03-03T10:11:16 1990-04-04T09:10:42 ...\n",
      "  * latitude   (latitude) float64 -33.74 -33.74 -33.74 -33.74 -33.75 -33.75 ...\n",
      "  * longitude  (longitude) float64 150.0 150.0 150.0 150.0 150.0 150.0 150.0 ...\n"
     ]
    }
   ],
   "source": [
    "print(masked_ndvi)"
   ]
  },
  {
   "cell_type": "code",
   "execution_count": 8,
   "metadata": {
    "collapsed": false
   },
   "outputs": [
    {
     "name": "stdout",
     "output_type": "stream",
     "text": [
      "<xarray.DataArray (latitude: 1024, longitude: 1024)>\n",
      "array([[        nan,         nan,         nan, ...,         nan,\n",
      "                nan,         nan],\n",
      "       [        nan,         nan,         nan, ...,         nan,\n",
      "                nan,         nan],\n",
      "       [        nan,         nan,         nan, ...,         nan,\n",
      "                nan,         nan],\n",
      "       ..., \n",
      "       [ 0.69706952,  0.65603755,  0.6275599 , ...,  0.70209158,\n",
      "         0.67934612,  0.66921431],\n",
      "       [ 0.698231  ,  0.66784134,  0.65029994, ...,  0.73426573,\n",
      "         0.6961256 ,  0.6974359 ],\n",
      "       [ 0.68662283,  0.68048757,  0.68241104, ...,  0.74228395,\n",
      "         0.73004021,  0.7053455 ]])\n",
      "Coordinates:\n",
      "  * latitude   (latitude) float64 -33.74 -33.74 -33.74 -33.74 -33.75 -33.75 ...\n",
      "  * longitude  (longitude) float64 150.0 150.0 150.0 150.0 150.0 150.0 150.0 ...\n",
      "<xarray.DataArray (longitude: 1024)>\n",
      "array([ 0.6722499 ,  0.67778837,  0.67570912, ...,  0.73339048,\n",
      "        0.73039648,  0.73055214])\n",
      "Coordinates:\n",
      "  * longitude  (longitude) float64 150.0 150.0 150.0 150.0 150.0 150.0 150.0 ...\n",
      "<xarray.DataArray ()>\n",
      "array(0.7040280210157618)\n"
     ]
    }
   ],
   "source": [
    "# currently dimensions are integer indices, later will be labels when\n",
    "# Data Access API Interface has been finalised.\n",
    "reduction_on_dim0 = nd.evaluate('median(masked_ndvi, 0)')\n",
    "reduction_on_dim01 = nd.evaluate('median(masked_ndvi, 0, 1)')\n",
    "reduction_on_dim012 = nd.evaluate('median(masked_ndvi, 0, 1, 2)')\n",
    "print(reduction_on_dim0)\n",
    "print(reduction_on_dim01)\n",
    "print(reduction_on_dim012)\n"
   ]
  },
  {
   "cell_type": "code",
   "execution_count": null,
   "metadata": {
    "collapsed": true
   },
   "outputs": [],
   "source": []
  }
 ],
 "metadata": {
  "kernelspec": {
   "display_name": "Python 2",
   "language": "python",
   "name": "python2"
  },
  "language_info": {
   "codemirror_mode": {
    "name": "ipython",
    "version": 2
   },
   "file_extension": ".py",
   "mimetype": "text/x-python",
   "name": "python",
   "nbconvert_exporter": "python",
   "pygments_lexer": "ipython2",
   "version": "2.7.11"
  }
 },
 "nbformat": 4,
 "nbformat_minor": 0
}
